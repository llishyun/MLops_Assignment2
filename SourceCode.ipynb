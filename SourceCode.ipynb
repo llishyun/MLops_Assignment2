{
 "cells": [
  {
   "cell_type": "markdown",
   "metadata": {},
   "source": [
    "#### Change label to binary, Prevent Data leakage"
   ]
  },
  {
   "cell_type": "code",
   "execution_count": 35,
   "metadata": {},
   "outputs": [],
   "source": [
    "import pandas as pd\n",
    "from sklearn.model_selection import train_test_split\n",
    "\n",
    "\n",
    "df = pd.read_csv(\"/Users/iseunghyeon/Desktop/4-1/MLops/aac_intakes_outcomes.csv\")\n",
    "df.head()\n",
    "\n",
    "# Create binary classification target: Adopted (1), Others (0)\n",
    "df['adopted'] = df['outcome_type'].apply(lambda x: 1 if x == 'Adoption' else 0)\n",
    "\n",
    "\n",
    "# prevent Data leakage and remove unnecessary ID\n",
    "drop_cols = ['outcome_type', 'outcome_subtype', 'animal_id_outcome', 'animal_id_intake',\n",
    "             'outcome_datetime', 'outcome_monthyear', 'time_in_shelter']  \n",
    "\n",
    "df = df.drop(columns=[col for col in drop_cols if col in df.columns])\n",
    "\n",
    "# Separate features and labels\n",
    "X = df.drop(columns='adopted')\n",
    "y = df['adopted']\n",
    "\n",
    "# 학습/테스트 데이터 분리 (예: 80% train, 20% test)\n",
    "X_train, X_test, y_train, y_test = train_test_split(\n",
    "    X, y, test_size=0.2, random_state=42, stratify=y\n",
    ")\n"
   ]
  },
  {
   "cell_type": "markdown",
   "metadata": {},
   "source": [
    "#### Check class ratio"
   ]
  },
  {
   "cell_type": "code",
   "execution_count": 36,
   "metadata": {},
   "outputs": [
    {
     "name": "stdout",
     "output_type": "stream",
     "text": [
      "\n",
      "📊 클래스별 비율 (%):\n",
      " adopted\n",
      "0    57.83\n",
      "1    42.17\n",
      "Name: proportion, dtype: float64\n"
     ]
    },
    {
     "name": "stderr",
     "output_type": "stream",
     "text": [
      "/var/folders/bw/2mkdr3w938z4h0z84x6l4dmr0000gn/T/ipykernel_31196/1101474631.py:14: UserWarning: Matplotlib is currently using agg, which is a non-GUI backend, so cannot show the figure.\n"
     ]
    }
   ],
   "source": [
    "# 클래스별 비율 확인\n",
    "class_ratios = y.value_counts(normalize=True) * 100\n",
    "print(\"\\n📊 클래스별 비율 (%):\\n\", class_ratios.round(2))\n",
    "\n",
    "import matplotlib.pyplot as plt\n",
    "\n",
    "# 막대 그래프로 시각화\n",
    "class_counts.plot(kind='bar', color='skyblue')\n",
    "plt.title(\"Outcome Type 분포\")\n",
    "plt.xlabel(\"Outcome Type\")\n",
    "plt.ylabel(\"Count\")\n",
    "plt.xticks(rotation=45)\n",
    "plt.tight_layout()\n",
    "plt.show()"
   ]
  },
  {
   "cell_type": "markdown",
   "metadata": {},
   "source": [
    "#### AutoML : MLJAR\n",
    "- decision tree\n",
    "- Random Forest\n",
    "- Xgboost\n",
    "- Catboost"
   ]
  },
  {
   "cell_type": "code",
   "execution_count": 40,
   "metadata": {},
   "outputs": [
    {
     "name": "stdout",
     "output_type": "stream",
     "text": [
      "AutoML directory: MLJAR_AAC\n",
      "The task is binary_classification with evaluation metric f1\n",
      "AutoML will use algorithms: ['Decision Tree', 'Random Forest', 'Xgboost', 'CatBoost']\n",
      "AutoML will stack models\n",
      "AutoML will ensemble available models\n",
      "AutoML steps: ['adjust_validation', 'simple_algorithms', 'default_algorithms', 'not_so_random', 'mix_encoding', 'golden_features', 'kmeans_features', 'insert_random_feature', 'features_selection', 'hill_climbing_1', 'hill_climbing_2', 'boost_on_errors', 'ensemble', 'stack', 'ensemble_stacked']\n",
      "* Step adjust_validation will try to check up to 1 model\n",
      "1_DecisionTree f1 0.808078 trained in 4.08 seconds\n",
      "Disable stacking for split validation\n",
      "* Step simple_algorithms will try to check up to 2 models\n",
      "2_DecisionTree f1 0.810104 trained in 4.29 seconds\n",
      "3_DecisionTree f1 0.810104 trained in 4.23 seconds\n",
      "* Step default_algorithms will try to check up to 3 models\n",
      "4_Default_Xgboost f1 0.869078 trained in 8.81 seconds\n",
      "5_Default_CatBoost f1 0.878013 trained in 12.73 seconds\n",
      "6_Default_RandomForest f1 0.814214 trained in 22.62 seconds\n",
      "* Step not_so_random will try to check up to 27 models\n",
      "7_Xgboost f1 0.873209 trained in 8.72 seconds\n",
      "16_CatBoost f1 0.877889 trained in 25.06 seconds\n",
      "25_RandomForest f1 0.835085 trained in 18.53 seconds\n",
      "8_Xgboost f1 0.871739 trained in 6.79 seconds\n",
      "17_CatBoost f1 0.879782 trained in 17.82 seconds\n",
      "26_RandomForest f1 0.848377 trained in 29.21 seconds\n",
      "9_Xgboost f1 0.870323 trained in 7.03 seconds\n",
      "18_CatBoost f1 0.880421 trained in 18.23 seconds\n",
      "27_RandomForest f1 0.809114 trained in 16.17 seconds\n",
      "10_Xgboost f1 0.865181 trained in 7.11 seconds\n",
      "19_CatBoost f1 0.880248 trained in 13.18 seconds\n",
      "28_RandomForest f1 0.84016 trained in 15.27 seconds\n",
      "11_Xgboost f1 0.871665 trained in 9.32 seconds\n",
      "20_CatBoost f1 0.879257 trained in 11.7 seconds\n",
      "29_RandomForest f1 0.826421 trained in 14.85 seconds\n",
      "12_Xgboost f1 0.866594 trained in 7.63 seconds\n",
      "21_CatBoost f1 0.87804 trained in 10.4 seconds\n",
      "30_RandomForest f1 0.843002 trained in 30.87 seconds\n",
      "13_Xgboost f1 0.870485 trained in 9.25 seconds\n",
      "22_CatBoost f1 0.872616 trained in 15.23 seconds\n",
      "31_RandomForest f1 0.8323 trained in 27.03 seconds\n",
      "14_Xgboost f1 0.86887 trained in 7.97 seconds\n",
      "23_CatBoost f1 0.880319 trained in 13.23 seconds\n",
      "32_RandomForest f1 0.832987 trained in 32.88 seconds\n",
      "15_Xgboost f1 0.872707 trained in 10.37 seconds\n",
      "24_CatBoost f1 0.874388 trained in 17.56 seconds\n",
      "33_RandomForest f1 0.834558 trained in 16.75 seconds\n",
      "* Step mix_encoding will try to check up to 1 model\n"
     ]
    },
    {
     "name": "stderr",
     "output_type": "stream",
     "text": [
      "/opt/homebrew/Caskroom/miniforge/base/envs/mljar-env/lib/python3.8/site-packages/supervised/preprocessing/label_binarizer.py:28: PerformanceWarning: DataFrame is highly fragmented.  This is usually the result of calling `frame.insert` many times, which has poor performance.  Consider joining all columns at once using pd.concat(axis=1) instead. To get a de-fragmented frame, use `newframe = frame.copy()`\n",
      "/opt/homebrew/Caskroom/miniforge/base/envs/mljar-env/lib/python3.8/site-packages/supervised/preprocessing/label_binarizer.py:28: PerformanceWarning: DataFrame is highly fragmented.  This is usually the result of calling `frame.insert` many times, which has poor performance.  Consider joining all columns at once using pd.concat(axis=1) instead. To get a de-fragmented frame, use `newframe = frame.copy()`\n",
      "/opt/homebrew/Caskroom/miniforge/base/envs/mljar-env/lib/python3.8/site-packages/supervised/preprocessing/label_binarizer.py:28: PerformanceWarning: DataFrame is highly fragmented.  This is usually the result of calling `frame.insert` many times, which has poor performance.  Consider joining all columns at once using pd.concat(axis=1) instead. To get a de-fragmented frame, use `newframe = frame.copy()`\n",
      "/opt/homebrew/Caskroom/miniforge/base/envs/mljar-env/lib/python3.8/site-packages/supervised/preprocessing/label_binarizer.py:28: PerformanceWarning: DataFrame is highly fragmented.  This is usually the result of calling `frame.insert` many times, which has poor performance.  Consider joining all columns at once using pd.concat(axis=1) instead. To get a de-fragmented frame, use `newframe = frame.copy()`\n",
      "/opt/homebrew/Caskroom/miniforge/base/envs/mljar-env/lib/python3.8/site-packages/supervised/preprocessing/label_binarizer.py:28: PerformanceWarning: DataFrame is highly fragmented.  This is usually the result of calling `frame.insert` many times, which has poor performance.  Consider joining all columns at once using pd.concat(axis=1) instead. To get a de-fragmented frame, use `newframe = frame.copy()`\n",
      "/opt/homebrew/Caskroom/miniforge/base/envs/mljar-env/lib/python3.8/site-packages/supervised/preprocessing/label_binarizer.py:28: PerformanceWarning: DataFrame is highly fragmented.  This is usually the result of calling `frame.insert` many times, which has poor performance.  Consider joining all columns at once using pd.concat(axis=1) instead. To get a de-fragmented frame, use `newframe = frame.copy()`\n",
      "/opt/homebrew/Caskroom/miniforge/base/envs/mljar-env/lib/python3.8/site-packages/supervised/preprocessing/label_binarizer.py:28: PerformanceWarning: DataFrame is highly fragmented.  This is usually the result of calling `frame.insert` many times, which has poor performance.  Consider joining all columns at once using pd.concat(axis=1) instead. To get a de-fragmented frame, use `newframe = frame.copy()`\n",
      "/opt/homebrew/Caskroom/miniforge/base/envs/mljar-env/lib/python3.8/site-packages/supervised/preprocessing/label_binarizer.py:28: PerformanceWarning: DataFrame is highly fragmented.  This is usually the result of calling `frame.insert` many times, which has poor performance.  Consider joining all columns at once using pd.concat(axis=1) instead. To get a de-fragmented frame, use `newframe = frame.copy()`\n",
      "/opt/homebrew/Caskroom/miniforge/base/envs/mljar-env/lib/python3.8/site-packages/supervised/preprocessing/label_binarizer.py:28: PerformanceWarning: DataFrame is highly fragmented.  This is usually the result of calling `frame.insert` many times, which has poor performance.  Consider joining all columns at once using pd.concat(axis=1) instead. To get a de-fragmented frame, use `newframe = frame.copy()`\n",
      "/opt/homebrew/Caskroom/miniforge/base/envs/mljar-env/lib/python3.8/site-packages/supervised/preprocessing/label_binarizer.py:28: PerformanceWarning: DataFrame is highly fragmented.  This is usually the result of calling `frame.insert` many times, which has poor performance.  Consider joining all columns at once using pd.concat(axis=1) instead. To get a de-fragmented frame, use `newframe = frame.copy()`\n",
      "/opt/homebrew/Caskroom/miniforge/base/envs/mljar-env/lib/python3.8/site-packages/supervised/preprocessing/label_binarizer.py:28: PerformanceWarning: DataFrame is highly fragmented.  This is usually the result of calling `frame.insert` many times, which has poor performance.  Consider joining all columns at once using pd.concat(axis=1) instead. To get a de-fragmented frame, use `newframe = frame.copy()`\n",
      "/opt/homebrew/Caskroom/miniforge/base/envs/mljar-env/lib/python3.8/site-packages/supervised/preprocessing/label_binarizer.py:28: PerformanceWarning: DataFrame is highly fragmented.  This is usually the result of calling `frame.insert` many times, which has poor performance.  Consider joining all columns at once using pd.concat(axis=1) instead. To get a de-fragmented frame, use `newframe = frame.copy()`\n",
      "/opt/homebrew/Caskroom/miniforge/base/envs/mljar-env/lib/python3.8/site-packages/supervised/preprocessing/label_binarizer.py:28: PerformanceWarning: DataFrame is highly fragmented.  This is usually the result of calling `frame.insert` many times, which has poor performance.  Consider joining all columns at once using pd.concat(axis=1) instead. To get a de-fragmented frame, use `newframe = frame.copy()`\n",
      "/opt/homebrew/Caskroom/miniforge/base/envs/mljar-env/lib/python3.8/site-packages/supervised/preprocessing/label_binarizer.py:28: PerformanceWarning: DataFrame is highly fragmented.  This is usually the result of calling `frame.insert` many times, which has poor performance.  Consider joining all columns at once using pd.concat(axis=1) instead. To get a de-fragmented frame, use `newframe = frame.copy()`\n",
      "/opt/homebrew/Caskroom/miniforge/base/envs/mljar-env/lib/python3.8/site-packages/supervised/preprocessing/label_binarizer.py:28: PerformanceWarning: DataFrame is highly fragmented.  This is usually the result of calling `frame.insert` many times, which has poor performance.  Consider joining all columns at once using pd.concat(axis=1) instead. To get a de-fragmented frame, use `newframe = frame.copy()`\n",
      "/opt/homebrew/Caskroom/miniforge/base/envs/mljar-env/lib/python3.8/site-packages/supervised/preprocessing/label_binarizer.py:28: PerformanceWarning: DataFrame is highly fragmented.  This is usually the result of calling `frame.insert` many times, which has poor performance.  Consider joining all columns at once using pd.concat(axis=1) instead. To get a de-fragmented frame, use `newframe = frame.copy()`\n",
      "/opt/homebrew/Caskroom/miniforge/base/envs/mljar-env/lib/python3.8/site-packages/supervised/preprocessing/label_binarizer.py:28: PerformanceWarning: DataFrame is highly fragmented.  This is usually the result of calling `frame.insert` many times, which has poor performance.  Consider joining all columns at once using pd.concat(axis=1) instead. To get a de-fragmented frame, use `newframe = frame.copy()`\n",
      "/opt/homebrew/Caskroom/miniforge/base/envs/mljar-env/lib/python3.8/site-packages/supervised/preprocessing/label_binarizer.py:28: PerformanceWarning: DataFrame is highly fragmented.  This is usually the result of calling `frame.insert` many times, which has poor performance.  Consider joining all columns at once using pd.concat(axis=1) instead. To get a de-fragmented frame, use `newframe = frame.copy()`\n",
      "/opt/homebrew/Caskroom/miniforge/base/envs/mljar-env/lib/python3.8/site-packages/supervised/preprocessing/label_binarizer.py:28: PerformanceWarning: DataFrame is highly fragmented.  This is usually the result of calling `frame.insert` many times, which has poor performance.  Consider joining all columns at once using pd.concat(axis=1) instead. To get a de-fragmented frame, use `newframe = frame.copy()`\n",
      "/opt/homebrew/Caskroom/miniforge/base/envs/mljar-env/lib/python3.8/site-packages/supervised/preprocessing/label_binarizer.py:28: PerformanceWarning: DataFrame is highly fragmented.  This is usually the result of calling `frame.insert` many times, which has poor performance.  Consider joining all columns at once using pd.concat(axis=1) instead. To get a de-fragmented frame, use `newframe = frame.copy()`\n",
      "/opt/homebrew/Caskroom/miniforge/base/envs/mljar-env/lib/python3.8/site-packages/supervised/preprocessing/label_binarizer.py:28: PerformanceWarning: DataFrame is highly fragmented.  This is usually the result of calling `frame.insert` many times, which has poor performance.  Consider joining all columns at once using pd.concat(axis=1) instead. To get a de-fragmented frame, use `newframe = frame.copy()`\n",
      "/opt/homebrew/Caskroom/miniforge/base/envs/mljar-env/lib/python3.8/site-packages/supervised/preprocessing/label_binarizer.py:28: PerformanceWarning: DataFrame is highly fragmented.  This is usually the result of calling `frame.insert` many times, which has poor performance.  Consider joining all columns at once using pd.concat(axis=1) instead. To get a de-fragmented frame, use `newframe = frame.copy()`\n",
      "/opt/homebrew/Caskroom/miniforge/base/envs/mljar-env/lib/python3.8/site-packages/supervised/preprocessing/label_binarizer.py:28: PerformanceWarning: DataFrame is highly fragmented.  This is usually the result of calling `frame.insert` many times, which has poor performance.  Consider joining all columns at once using pd.concat(axis=1) instead. To get a de-fragmented frame, use `newframe = frame.copy()`\n",
      "/opt/homebrew/Caskroom/miniforge/base/envs/mljar-env/lib/python3.8/site-packages/supervised/preprocessing/label_binarizer.py:28: PerformanceWarning: DataFrame is highly fragmented.  This is usually the result of calling `frame.insert` many times, which has poor performance.  Consider joining all columns at once using pd.concat(axis=1) instead. To get a de-fragmented frame, use `newframe = frame.copy()`\n",
      "/opt/homebrew/Caskroom/miniforge/base/envs/mljar-env/lib/python3.8/site-packages/supervised/preprocessing/label_binarizer.py:28: PerformanceWarning: DataFrame is highly fragmented.  This is usually the result of calling `frame.insert` many times, which has poor performance.  Consider joining all columns at once using pd.concat(axis=1) instead. To get a de-fragmented frame, use `newframe = frame.copy()`\n",
      "/opt/homebrew/Caskroom/miniforge/base/envs/mljar-env/lib/python3.8/site-packages/supervised/preprocessing/label_binarizer.py:28: PerformanceWarning: DataFrame is highly fragmented.  This is usually the result of calling `frame.insert` many times, which has poor performance.  Consider joining all columns at once using pd.concat(axis=1) instead. To get a de-fragmented frame, use `newframe = frame.copy()`\n",
      "/opt/homebrew/Caskroom/miniforge/base/envs/mljar-env/lib/python3.8/site-packages/supervised/preprocessing/label_binarizer.py:28: PerformanceWarning: DataFrame is highly fragmented.  This is usually the result of calling `frame.insert` many times, which has poor performance.  Consider joining all columns at once using pd.concat(axis=1) instead. To get a de-fragmented frame, use `newframe = frame.copy()`\n",
      "/opt/homebrew/Caskroom/miniforge/base/envs/mljar-env/lib/python3.8/site-packages/supervised/preprocessing/label_binarizer.py:28: PerformanceWarning: DataFrame is highly fragmented.  This is usually the result of calling `frame.insert` many times, which has poor performance.  Consider joining all columns at once using pd.concat(axis=1) instead. To get a de-fragmented frame, use `newframe = frame.copy()`\n",
      "/opt/homebrew/Caskroom/miniforge/base/envs/mljar-env/lib/python3.8/site-packages/supervised/preprocessing/label_binarizer.py:28: PerformanceWarning: DataFrame is highly fragmented.  This is usually the result of calling `frame.insert` many times, which has poor performance.  Consider joining all columns at once using pd.concat(axis=1) instead. To get a de-fragmented frame, use `newframe = frame.copy()`\n",
      "/opt/homebrew/Caskroom/miniforge/base/envs/mljar-env/lib/python3.8/site-packages/supervised/preprocessing/label_binarizer.py:28: PerformanceWarning: DataFrame is highly fragmented.  This is usually the result of calling `frame.insert` many times, which has poor performance.  Consider joining all columns at once using pd.concat(axis=1) instead. To get a de-fragmented frame, use `newframe = frame.copy()`\n",
      "/opt/homebrew/Caskroom/miniforge/base/envs/mljar-env/lib/python3.8/site-packages/supervised/preprocessing/label_binarizer.py:28: PerformanceWarning: DataFrame is highly fragmented.  This is usually the result of calling `frame.insert` many times, which has poor performance.  Consider joining all columns at once using pd.concat(axis=1) instead. To get a de-fragmented frame, use `newframe = frame.copy()`\n",
      "/opt/homebrew/Caskroom/miniforge/base/envs/mljar-env/lib/python3.8/site-packages/supervised/preprocessing/label_binarizer.py:28: PerformanceWarning: DataFrame is highly fragmented.  This is usually the result of calling `frame.insert` many times, which has poor performance.  Consider joining all columns at once using pd.concat(axis=1) instead. To get a de-fragmented frame, use `newframe = frame.copy()`\n",
      "/opt/homebrew/Caskroom/miniforge/base/envs/mljar-env/lib/python3.8/site-packages/supervised/preprocessing/label_binarizer.py:28: PerformanceWarning: DataFrame is highly fragmented.  This is usually the result of calling `frame.insert` many times, which has poor performance.  Consider joining all columns at once using pd.concat(axis=1) instead. To get a de-fragmented frame, use `newframe = frame.copy()`\n",
      "/opt/homebrew/Caskroom/miniforge/base/envs/mljar-env/lib/python3.8/site-packages/supervised/preprocessing/label_binarizer.py:28: PerformanceWarning: DataFrame is highly fragmented.  This is usually the result of calling `frame.insert` many times, which has poor performance.  Consider joining all columns at once using pd.concat(axis=1) instead. To get a de-fragmented frame, use `newframe = frame.copy()`\n",
      "/opt/homebrew/Caskroom/miniforge/base/envs/mljar-env/lib/python3.8/site-packages/supervised/preprocessing/label_binarizer.py:28: PerformanceWarning: DataFrame is highly fragmented.  This is usually the result of calling `frame.insert` many times, which has poor performance.  Consider joining all columns at once using pd.concat(axis=1) instead. To get a de-fragmented frame, use `newframe = frame.copy()`\n",
      "/opt/homebrew/Caskroom/miniforge/base/envs/mljar-env/lib/python3.8/site-packages/supervised/preprocessing/label_binarizer.py:28: PerformanceWarning: DataFrame is highly fragmented.  This is usually the result of calling `frame.insert` many times, which has poor performance.  Consider joining all columns at once using pd.concat(axis=1) instead. To get a de-fragmented frame, use `newframe = frame.copy()`\n",
      "/opt/homebrew/Caskroom/miniforge/base/envs/mljar-env/lib/python3.8/site-packages/supervised/preprocessing/label_binarizer.py:28: PerformanceWarning: DataFrame is highly fragmented.  This is usually the result of calling `frame.insert` many times, which has poor performance.  Consider joining all columns at once using pd.concat(axis=1) instead. To get a de-fragmented frame, use `newframe = frame.copy()`\n",
      "/opt/homebrew/Caskroom/miniforge/base/envs/mljar-env/lib/python3.8/site-packages/supervised/preprocessing/label_binarizer.py:28: PerformanceWarning: DataFrame is highly fragmented.  This is usually the result of calling `frame.insert` many times, which has poor performance.  Consider joining all columns at once using pd.concat(axis=1) instead. To get a de-fragmented frame, use `newframe = frame.copy()`\n",
      "/opt/homebrew/Caskroom/miniforge/base/envs/mljar-env/lib/python3.8/site-packages/supervised/preprocessing/label_binarizer.py:28: PerformanceWarning: DataFrame is highly fragmented.  This is usually the result of calling `frame.insert` many times, which has poor performance.  Consider joining all columns at once using pd.concat(axis=1) instead. To get a de-fragmented frame, use `newframe = frame.copy()`\n",
      "/opt/homebrew/Caskroom/miniforge/base/envs/mljar-env/lib/python3.8/site-packages/supervised/preprocessing/label_binarizer.py:28: PerformanceWarning: DataFrame is highly fragmented.  This is usually the result of calling `frame.insert` many times, which has poor performance.  Consider joining all columns at once using pd.concat(axis=1) instead. To get a de-fragmented frame, use `newframe = frame.copy()`\n",
      "/opt/homebrew/Caskroom/miniforge/base/envs/mljar-env/lib/python3.8/site-packages/supervised/preprocessing/label_binarizer.py:28: PerformanceWarning: DataFrame is highly fragmented.  This is usually the result of calling `frame.insert` many times, which has poor performance.  Consider joining all columns at once using pd.concat(axis=1) instead. To get a de-fragmented frame, use `newframe = frame.copy()`\n",
      "/opt/homebrew/Caskroom/miniforge/base/envs/mljar-env/lib/python3.8/site-packages/supervised/preprocessing/label_binarizer.py:28: PerformanceWarning: DataFrame is highly fragmented.  This is usually the result of calling `frame.insert` many times, which has poor performance.  Consider joining all columns at once using pd.concat(axis=1) instead. To get a de-fragmented frame, use `newframe = frame.copy()`\n",
      "/opt/homebrew/Caskroom/miniforge/base/envs/mljar-env/lib/python3.8/site-packages/supervised/preprocessing/label_binarizer.py:28: PerformanceWarning: DataFrame is highly fragmented.  This is usually the result of calling `frame.insert` many times, which has poor performance.  Consider joining all columns at once using pd.concat(axis=1) instead. To get a de-fragmented frame, use `newframe = frame.copy()`\n",
      "/opt/homebrew/Caskroom/miniforge/base/envs/mljar-env/lib/python3.8/site-packages/supervised/preprocessing/label_binarizer.py:28: PerformanceWarning: DataFrame is highly fragmented.  This is usually the result of calling `frame.insert` many times, which has poor performance.  Consider joining all columns at once using pd.concat(axis=1) instead. To get a de-fragmented frame, use `newframe = frame.copy()`\n",
      "/opt/homebrew/Caskroom/miniforge/base/envs/mljar-env/lib/python3.8/site-packages/supervised/preprocessing/label_binarizer.py:28: PerformanceWarning: DataFrame is highly fragmented.  This is usually the result of calling `frame.insert` many times, which has poor performance.  Consider joining all columns at once using pd.concat(axis=1) instead. To get a de-fragmented frame, use `newframe = frame.copy()`\n",
      "/opt/homebrew/Caskroom/miniforge/base/envs/mljar-env/lib/python3.8/site-packages/supervised/preprocessing/label_binarizer.py:28: PerformanceWarning: DataFrame is highly fragmented.  This is usually the result of calling `frame.insert` many times, which has poor performance.  Consider joining all columns at once using pd.concat(axis=1) instead. To get a de-fragmented frame, use `newframe = frame.copy()`\n",
      "/opt/homebrew/Caskroom/miniforge/base/envs/mljar-env/lib/python3.8/site-packages/supervised/preprocessing/label_binarizer.py:28: PerformanceWarning: DataFrame is highly fragmented.  This is usually the result of calling `frame.insert` many times, which has poor performance.  Consider joining all columns at once using pd.concat(axis=1) instead. To get a de-fragmented frame, use `newframe = frame.copy()`\n",
      "/opt/homebrew/Caskroom/miniforge/base/envs/mljar-env/lib/python3.8/site-packages/supervised/preprocessing/label_binarizer.py:28: PerformanceWarning: DataFrame is highly fragmented.  This is usually the result of calling `frame.insert` many times, which has poor performance.  Consider joining all columns at once using pd.concat(axis=1) instead. To get a de-fragmented frame, use `newframe = frame.copy()`\n",
      "/opt/homebrew/Caskroom/miniforge/base/envs/mljar-env/lib/python3.8/site-packages/supervised/preprocessing/label_binarizer.py:28: PerformanceWarning: DataFrame is highly fragmented.  This is usually the result of calling `frame.insert` many times, which has poor performance.  Consider joining all columns at once using pd.concat(axis=1) instead. To get a de-fragmented frame, use `newframe = frame.copy()`\n",
      "/opt/homebrew/Caskroom/miniforge/base/envs/mljar-env/lib/python3.8/site-packages/supervised/preprocessing/label_binarizer.py:28: PerformanceWarning: DataFrame is highly fragmented.  This is usually the result of calling `frame.insert` many times, which has poor performance.  Consider joining all columns at once using pd.concat(axis=1) instead. To get a de-fragmented frame, use `newframe = frame.copy()`\n",
      "/opt/homebrew/Caskroom/miniforge/base/envs/mljar-env/lib/python3.8/site-packages/supervised/preprocessing/label_binarizer.py:28: PerformanceWarning: DataFrame is highly fragmented.  This is usually the result of calling `frame.insert` many times, which has poor performance.  Consider joining all columns at once using pd.concat(axis=1) instead. To get a de-fragmented frame, use `newframe = frame.copy()`\n",
      "/opt/homebrew/Caskroom/miniforge/base/envs/mljar-env/lib/python3.8/site-packages/supervised/preprocessing/label_binarizer.py:28: PerformanceWarning: DataFrame is highly fragmented.  This is usually the result of calling `frame.insert` many times, which has poor performance.  Consider joining all columns at once using pd.concat(axis=1) instead. To get a de-fragmented frame, use `newframe = frame.copy()`\n",
      "/opt/homebrew/Caskroom/miniforge/base/envs/mljar-env/lib/python3.8/site-packages/supervised/preprocessing/label_binarizer.py:28: PerformanceWarning: DataFrame is highly fragmented.  This is usually the result of calling `frame.insert` many times, which has poor performance.  Consider joining all columns at once using pd.concat(axis=1) instead. To get a de-fragmented frame, use `newframe = frame.copy()`\n",
      "/opt/homebrew/Caskroom/miniforge/base/envs/mljar-env/lib/python3.8/site-packages/supervised/preprocessing/label_binarizer.py:28: PerformanceWarning: DataFrame is highly fragmented.  This is usually the result of calling `frame.insert` many times, which has poor performance.  Consider joining all columns at once using pd.concat(axis=1) instead. To get a de-fragmented frame, use `newframe = frame.copy()`\n",
      "/opt/homebrew/Caskroom/miniforge/base/envs/mljar-env/lib/python3.8/site-packages/supervised/preprocessing/label_binarizer.py:28: PerformanceWarning: DataFrame is highly fragmented.  This is usually the result of calling `frame.insert` many times, which has poor performance.  Consider joining all columns at once using pd.concat(axis=1) instead. To get a de-fragmented frame, use `newframe = frame.copy()`\n",
      "/opt/homebrew/Caskroom/miniforge/base/envs/mljar-env/lib/python3.8/site-packages/supervised/preprocessing/label_binarizer.py:28: PerformanceWarning: DataFrame is highly fragmented.  This is usually the result of calling `frame.insert` many times, which has poor performance.  Consider joining all columns at once using pd.concat(axis=1) instead. To get a de-fragmented frame, use `newframe = frame.copy()`\n",
      "/opt/homebrew/Caskroom/miniforge/base/envs/mljar-env/lib/python3.8/site-packages/supervised/preprocessing/label_binarizer.py:28: PerformanceWarning: DataFrame is highly fragmented.  This is usually the result of calling `frame.insert` many times, which has poor performance.  Consider joining all columns at once using pd.concat(axis=1) instead. To get a de-fragmented frame, use `newframe = frame.copy()`\n",
      "/opt/homebrew/Caskroom/miniforge/base/envs/mljar-env/lib/python3.8/site-packages/supervised/preprocessing/label_binarizer.py:28: PerformanceWarning: DataFrame is highly fragmented.  This is usually the result of calling `frame.insert` many times, which has poor performance.  Consider joining all columns at once using pd.concat(axis=1) instead. To get a de-fragmented frame, use `newframe = frame.copy()`\n",
      "/opt/homebrew/Caskroom/miniforge/base/envs/mljar-env/lib/python3.8/site-packages/supervised/preprocessing/label_binarizer.py:28: PerformanceWarning: DataFrame is highly fragmented.  This is usually the result of calling `frame.insert` many times, which has poor performance.  Consider joining all columns at once using pd.concat(axis=1) instead. To get a de-fragmented frame, use `newframe = frame.copy()`\n",
      "/opt/homebrew/Caskroom/miniforge/base/envs/mljar-env/lib/python3.8/site-packages/supervised/preprocessing/label_binarizer.py:28: PerformanceWarning: DataFrame is highly fragmented.  This is usually the result of calling `frame.insert` many times, which has poor performance.  Consider joining all columns at once using pd.concat(axis=1) instead. To get a de-fragmented frame, use `newframe = frame.copy()`\n"
     ]
    },
    {
     "name": "stdout",
     "output_type": "stream",
     "text": [
      "7_Xgboost_categorical_mix f1 0.869282 trained in 8.35 seconds\n",
      "* Step golden_features will try to check up to 3 models\n",
      "None 10\n",
      "Add Golden Feature: time_in_shelter_days_multiply_outcome_hour\n",
      "Add Golden Feature: time_in_shelter_days_sum_outcome_hour\n",
      "Add Golden Feature: time_in_shelter_days_ratio_outcome_hour\n",
      "Add Golden Feature: outcome_hour_ratio_time_in_shelter_days\n",
      "Add Golden Feature: time_in_shelter_days_multiply_intake_number\n",
      "Add Golden Feature: time_in_shelter_days_multiply_outcome_number\n",
      "Add Golden Feature: outcome_number_ratio_time_in_shelter_days\n",
      "Add Golden Feature: intake_number_ratio_time_in_shelter_days\n",
      "Add Golden Feature: time_in_shelter_days_ratio_intake_number\n",
      "Add Golden Feature: time_in_shelter_days_ratio_outcome_number\n",
      "Created 10 Golden Features in 3.79 seconds.\n",
      "18_CatBoost_GoldenFeatures f1 0.877007 trained in 17.02 seconds\n",
      "23_CatBoost_GoldenFeatures f1 0.877792 trained in 17.76 seconds\n",
      "19_CatBoost_GoldenFeatures f1 0.878217 trained in 11.42 seconds\n",
      "* Step kmeans_features will try to check up to 3 models\n"
     ]
    },
    {
     "name": "stderr",
     "output_type": "stream",
     "text": [
      "/opt/homebrew/Caskroom/miniforge/base/envs/mljar-env/lib/python3.8/site-packages/sklearn/cluster/_kmeans.py:1934: FutureWarning: The default value of `n_init` will change from 3 to 'auto' in 1.4. Set the value of `n_init` explicitly to suppress the warning\n"
     ]
    },
    {
     "name": "stdout",
     "output_type": "stream",
     "text": [
      "18_CatBoost_KMeansFeatures f1 0.876343 trained in 14.0 seconds\n"
     ]
    },
    {
     "name": "stderr",
     "output_type": "stream",
     "text": [
      "/opt/homebrew/Caskroom/miniforge/base/envs/mljar-env/lib/python3.8/site-packages/sklearn/cluster/_kmeans.py:1934: FutureWarning: The default value of `n_init` will change from 3 to 'auto' in 1.4. Set the value of `n_init` explicitly to suppress the warning\n"
     ]
    },
    {
     "name": "stdout",
     "output_type": "stream",
     "text": [
      "23_CatBoost_KMeansFeatures f1 0.880624 trained in 17.18 seconds\n"
     ]
    },
    {
     "name": "stderr",
     "output_type": "stream",
     "text": [
      "/opt/homebrew/Caskroom/miniforge/base/envs/mljar-env/lib/python3.8/site-packages/sklearn/cluster/_kmeans.py:1934: FutureWarning: The default value of `n_init` will change from 3 to 'auto' in 1.4. Set the value of `n_init` explicitly to suppress the warning\n"
     ]
    },
    {
     "name": "stdout",
     "output_type": "stream",
     "text": [
      "19_CatBoost_KMeansFeatures f1 0.880494 trained in 20.43 seconds\n",
      "* Step insert_random_feature will try to check up to 1 model\n"
     ]
    },
    {
     "name": "stderr",
     "output_type": "stream",
     "text": [
      "/opt/homebrew/Caskroom/miniforge/base/envs/mljar-env/lib/python3.8/site-packages/sklearn/cluster/_kmeans.py:1934: FutureWarning: The default value of `n_init` will change from 3 to 'auto' in 1.4. Set the value of `n_init` explicitly to suppress the warning\n"
     ]
    },
    {
     "name": "stdout",
     "output_type": "stream",
     "text": [
      "log_loss_eps() got an unexpected keyword argument 'response_method'\n",
      "Problem during computing permutation importance. Skipping ...\n",
      "23_CatBoost_KMeansFeatures_RandomFeature f1 0.879201 trained in 13.75 seconds\n",
      "Skip features_selection because no parameters were generated.\n",
      "* Step hill_climbing_1 will try to check up to 15 models\n"
     ]
    },
    {
     "name": "stderr",
     "output_type": "stream",
     "text": [
      "/opt/homebrew/Caskroom/miniforge/base/envs/mljar-env/lib/python3.8/site-packages/sklearn/cluster/_kmeans.py:1934: FutureWarning: The default value of `n_init` will change from 3 to 'auto' in 1.4. Set the value of `n_init` explicitly to suppress the warning\n"
     ]
    },
    {
     "name": "stdout",
     "output_type": "stream",
     "text": [
      "34_CatBoost f1 0.878518 trained in 23.01 seconds\n"
     ]
    },
    {
     "name": "stderr",
     "output_type": "stream",
     "text": [
      "/opt/homebrew/Caskroom/miniforge/base/envs/mljar-env/lib/python3.8/site-packages/sklearn/cluster/_kmeans.py:1934: FutureWarning: The default value of `n_init` will change from 3 to 'auto' in 1.4. Set the value of `n_init` explicitly to suppress the warning\n"
     ]
    },
    {
     "name": "stdout",
     "output_type": "stream",
     "text": [
      "35_CatBoost f1 0.880087 trained in 12.97 seconds\n"
     ]
    },
    {
     "name": "stderr",
     "output_type": "stream",
     "text": [
      "/opt/homebrew/Caskroom/miniforge/base/envs/mljar-env/lib/python3.8/site-packages/sklearn/cluster/_kmeans.py:1934: FutureWarning: The default value of `n_init` will change from 3 to 'auto' in 1.4. Set the value of `n_init` explicitly to suppress the warning\n"
     ]
    },
    {
     "name": "stdout",
     "output_type": "stream",
     "text": [
      "36_CatBoost f1 0.877499 trained in 16.19 seconds\n",
      "37_CatBoost f1 0.874749 trained in 20.42 seconds\n",
      "38_CatBoost f1 0.875976 trained in 9.03 seconds\n",
      "39_Xgboost f1 0.871665 trained in 7.42 seconds\n",
      "40_Xgboost f1 0.870337 trained in 10.28 seconds\n",
      "41_Xgboost f1 0.870118 trained in 10.93 seconds\n",
      "42_Xgboost f1 0.872101 trained in 7.49 seconds\n",
      "43_RandomForest f1 0.848625 trained in 18.54 seconds\n",
      "44_RandomForest f1 0.846617 trained in 35.17 seconds\n",
      "45_RandomForest f1 0.84058 trained in 16.26 seconds\n",
      "46_DecisionTree f1 0.81103 trained in 4.54 seconds\n",
      "47_DecisionTree f1 0.81103 trained in 4.45 seconds\n",
      "48_DecisionTree f1 0.808139 trained in 4.36 seconds\n",
      "* Step hill_climbing_2 will try to check up to 11 models\n"
     ]
    },
    {
     "name": "stderr",
     "output_type": "stream",
     "text": [
      "/opt/homebrew/Caskroom/miniforge/base/envs/mljar-env/lib/python3.8/site-packages/sklearn/cluster/_kmeans.py:1934: FutureWarning: The default value of `n_init` will change from 3 to 'auto' in 1.4. Set the value of `n_init` explicitly to suppress the warning\n"
     ]
    },
    {
     "name": "stdout",
     "output_type": "stream",
     "text": [
      "49_CatBoost f1 0.879811 trained in 12.73 seconds\n"
     ]
    },
    {
     "name": "stderr",
     "output_type": "stream",
     "text": [
      "/opt/homebrew/Caskroom/miniforge/base/envs/mljar-env/lib/python3.8/site-packages/sklearn/cluster/_kmeans.py:1934: FutureWarning: The default value of `n_init` will change from 3 to 'auto' in 1.4. Set the value of `n_init` explicitly to suppress the warning\n"
     ]
    },
    {
     "name": "stdout",
     "output_type": "stream",
     "text": [
      "50_CatBoost f1 0.879217 trained in 14.65 seconds\n"
     ]
    },
    {
     "name": "stderr",
     "output_type": "stream",
     "text": [
      "/opt/homebrew/Caskroom/miniforge/base/envs/mljar-env/lib/python3.8/site-packages/sklearn/cluster/_kmeans.py:1934: FutureWarning: The default value of `n_init` will change from 3 to 'auto' in 1.4. Set the value of `n_init` explicitly to suppress the warning\n"
     ]
    },
    {
     "name": "stdout",
     "output_type": "stream",
     "text": [
      "51_CatBoost f1 0.877685 trained in 15.75 seconds\n",
      "52_CatBoost f1 0.876892 trained in 15.46 seconds\n",
      "53_Xgboost f1 0.871841 trained in 9.74 seconds\n",
      "54_Xgboost f1 0.871925 trained in 8.23 seconds\n",
      "55_Xgboost f1 0.871795 trained in 12.23 seconds\n",
      "56_Xgboost f1 0.870997 trained in 7.15 seconds\n",
      "57_RandomForest f1 0.836995 trained in 30.22 seconds\n",
      "58_RandomForest f1 0.84544 trained in 19.21 seconds\n",
      "59_RandomForest f1 0.840677 trained in 39.42 seconds\n",
      "* Step ensemble will try to check up to 1 model\n",
      "Ensemble f1 0.884176 trained in 6.26 seconds\n",
      "AutoML fit time: 1033.58 seconds\n",
      "AutoML best model: Ensemble\n"
     ]
    },
    {
     "data": {
      "text/html": [
       "<style>#sk-container-id-6 {color: black;}#sk-container-id-6 pre{padding: 0;}#sk-container-id-6 div.sk-toggleable {background-color: white;}#sk-container-id-6 label.sk-toggleable__label {cursor: pointer;display: block;width: 100%;margin-bottom: 0;padding: 0.3em;box-sizing: border-box;text-align: center;}#sk-container-id-6 label.sk-toggleable__label-arrow:before {content: \"▸\";float: left;margin-right: 0.25em;color: #696969;}#sk-container-id-6 label.sk-toggleable__label-arrow:hover:before {color: black;}#sk-container-id-6 div.sk-estimator:hover label.sk-toggleable__label-arrow:before {color: black;}#sk-container-id-6 div.sk-toggleable__content {max-height: 0;max-width: 0;overflow: hidden;text-align: left;background-color: #f0f8ff;}#sk-container-id-6 div.sk-toggleable__content pre {margin: 0.2em;color: black;border-radius: 0.25em;background-color: #f0f8ff;}#sk-container-id-6 input.sk-toggleable__control:checked~div.sk-toggleable__content {max-height: 200px;max-width: 100%;overflow: auto;}#sk-container-id-6 input.sk-toggleable__control:checked~label.sk-toggleable__label-arrow:before {content: \"▾\";}#sk-container-id-6 div.sk-estimator input.sk-toggleable__control:checked~label.sk-toggleable__label {background-color: #d4ebff;}#sk-container-id-6 div.sk-label input.sk-toggleable__control:checked~label.sk-toggleable__label {background-color: #d4ebff;}#sk-container-id-6 input.sk-hidden--visually {border: 0;clip: rect(1px 1px 1px 1px);clip: rect(1px, 1px, 1px, 1px);height: 1px;margin: -1px;overflow: hidden;padding: 0;position: absolute;width: 1px;}#sk-container-id-6 div.sk-estimator {font-family: monospace;background-color: #f0f8ff;border: 1px dotted black;border-radius: 0.25em;box-sizing: border-box;margin-bottom: 0.5em;}#sk-container-id-6 div.sk-estimator:hover {background-color: #d4ebff;}#sk-container-id-6 div.sk-parallel-item::after {content: \"\";width: 100%;border-bottom: 1px solid gray;flex-grow: 1;}#sk-container-id-6 div.sk-label:hover label.sk-toggleable__label {background-color: #d4ebff;}#sk-container-id-6 div.sk-serial::before {content: \"\";position: absolute;border-left: 1px solid gray;box-sizing: border-box;top: 0;bottom: 0;left: 50%;z-index: 0;}#sk-container-id-6 div.sk-serial {display: flex;flex-direction: column;align-items: center;background-color: white;padding-right: 0.2em;padding-left: 0.2em;position: relative;}#sk-container-id-6 div.sk-item {position: relative;z-index: 1;}#sk-container-id-6 div.sk-parallel {display: flex;align-items: stretch;justify-content: center;background-color: white;position: relative;}#sk-container-id-6 div.sk-item::before, #sk-container-id-6 div.sk-parallel-item::before {content: \"\";position: absolute;border-left: 1px solid gray;box-sizing: border-box;top: 0;bottom: 0;left: 50%;z-index: -1;}#sk-container-id-6 div.sk-parallel-item {display: flex;flex-direction: column;z-index: 1;position: relative;background-color: white;}#sk-container-id-6 div.sk-parallel-item:first-child::after {align-self: flex-end;width: 50%;}#sk-container-id-6 div.sk-parallel-item:last-child::after {align-self: flex-start;width: 50%;}#sk-container-id-6 div.sk-parallel-item:only-child::after {width: 0;}#sk-container-id-6 div.sk-dashed-wrapped {border: 1px dashed gray;margin: 0 0.4em 0.5em 0.4em;box-sizing: border-box;padding-bottom: 0.4em;background-color: white;}#sk-container-id-6 div.sk-label label {font-family: monospace;font-weight: bold;display: inline-block;line-height: 1.2em;}#sk-container-id-6 div.sk-label-container {text-align: center;}#sk-container-id-6 div.sk-container {/* jupyter's `normalize.less` sets `[hidden] { display: none; }` but bootstrap.min.css set `[hidden] { display: none !important; }` so we also need the `!important` here to be able to override the default hidden behavior on the sphinx rendered scikit-learn.org. See: https://github.com/scikit-learn/scikit-learn/issues/21755 */display: inline-block !important;position: relative;}#sk-container-id-6 div.sk-text-repr-fallback {display: none;}</style><div id=\"sk-container-id-6\" class=\"sk-top-container\"><div class=\"sk-text-repr-fallback\"><pre>AutoML(algorithms=[&#x27;Decision Tree&#x27;, &#x27;Random Forest&#x27;, &#x27;Xgboost&#x27;, &#x27;CatBoost&#x27;],\n",
       "       eval_metric=&#x27;f1&#x27;, mode=&#x27;Compete&#x27;, results_path=&#x27;MLJAR_AAC&#x27;,\n",
       "       total_time_limit=1000)</pre><b>In a Jupyter environment, please rerun this cell to show the HTML representation or trust the notebook. <br />On GitHub, the HTML representation is unable to render, please try loading this page with nbviewer.org.</b></div><div class=\"sk-container\" hidden><div class=\"sk-item\"><div class=\"sk-estimator sk-toggleable\"><input class=\"sk-toggleable__control sk-hidden--visually\" id=\"sk-estimator-id-6\" type=\"checkbox\" checked><label for=\"sk-estimator-id-6\" class=\"sk-toggleable__label sk-toggleable__label-arrow\">AutoML</label><div class=\"sk-toggleable__content\"><pre>AutoML(algorithms=[&#x27;Decision Tree&#x27;, &#x27;Random Forest&#x27;, &#x27;Xgboost&#x27;, &#x27;CatBoost&#x27;],\n",
       "       eval_metric=&#x27;f1&#x27;, mode=&#x27;Compete&#x27;, results_path=&#x27;MLJAR_AAC&#x27;,\n",
       "       total_time_limit=1000)</pre></div></div></div></div></div>"
      ],
      "text/plain": [
       "AutoML(algorithms=['Decision Tree', 'Random Forest', 'Xgboost', 'CatBoost'],\n",
       "       eval_metric='f1', mode='Compete', results_path='MLJAR_AAC',\n",
       "       total_time_limit=1000)"
      ]
     },
     "execution_count": 40,
     "metadata": {},
     "output_type": "execute_result"
    }
   ],
   "source": [
    "from supervised.automl import AutoML\n",
    "\n",
    "automl = AutoML(\n",
    "    mode=\"Compete\",                  \n",
    "    eval_metric=\"f1\",               \n",
    "    total_time_limit=1000,           \n",
    "    results_path=\"MLJAR_AAC\",       \n",
    "    algorithms=[                  \n",
    "        \"Decision Tree\",\n",
    "        \"Random Forest\",\n",
    "        \"Xgboost\",\n",
    "        \"CatBoost\"\n",
    "    ]\n",
    ")\n",
    "\n",
    "automl.fit(X_train, y_train)"
   ]
  },
  {
   "cell_type": "code",
   "execution_count": 47,
   "metadata": {},
   "outputs": [
    {
     "name": "stdout",
     "output_type": "stream",
     "text": [
      "Accuracy : 0.8850\n",
      "Precision: 0.8401\n",
      "Recall   : 0.8983\n",
      "F1-score : 0.8682\n"
     ]
    },
    {
     "name": "stderr",
     "output_type": "stream",
     "text": [
      "/opt/homebrew/Caskroom/miniforge/base/envs/mljar-env/lib/python3.8/site-packages/supervised/preprocessing/label_binarizer.py:28: PerformanceWarning: DataFrame is highly fragmented.  This is usually the result of calling `frame.insert` many times, which has poor performance.  Consider joining all columns at once using pd.concat(axis=1) instead. To get a de-fragmented frame, use `newframe = frame.copy()`\n",
      "/opt/homebrew/Caskroom/miniforge/base/envs/mljar-env/lib/python3.8/site-packages/supervised/preprocessing/label_binarizer.py:28: PerformanceWarning: DataFrame is highly fragmented.  This is usually the result of calling `frame.insert` many times, which has poor performance.  Consider joining all columns at once using pd.concat(axis=1) instead. To get a de-fragmented frame, use `newframe = frame.copy()`\n",
      "/opt/homebrew/Caskroom/miniforge/base/envs/mljar-env/lib/python3.8/site-packages/supervised/preprocessing/label_binarizer.py:28: PerformanceWarning: DataFrame is highly fragmented.  This is usually the result of calling `frame.insert` many times, which has poor performance.  Consider joining all columns at once using pd.concat(axis=1) instead. To get a de-fragmented frame, use `newframe = frame.copy()`\n",
      "/opt/homebrew/Caskroom/miniforge/base/envs/mljar-env/lib/python3.8/site-packages/supervised/preprocessing/label_binarizer.py:28: PerformanceWarning: DataFrame is highly fragmented.  This is usually the result of calling `frame.insert` many times, which has poor performance.  Consider joining all columns at once using pd.concat(axis=1) instead. To get a de-fragmented frame, use `newframe = frame.copy()`\n",
      "/opt/homebrew/Caskroom/miniforge/base/envs/mljar-env/lib/python3.8/site-packages/supervised/preprocessing/label_binarizer.py:28: PerformanceWarning: DataFrame is highly fragmented.  This is usually the result of calling `frame.insert` many times, which has poor performance.  Consider joining all columns at once using pd.concat(axis=1) instead. To get a de-fragmented frame, use `newframe = frame.copy()`\n",
      "/opt/homebrew/Caskroom/miniforge/base/envs/mljar-env/lib/python3.8/site-packages/supervised/preprocessing/label_binarizer.py:28: PerformanceWarning: DataFrame is highly fragmented.  This is usually the result of calling `frame.insert` many times, which has poor performance.  Consider joining all columns at once using pd.concat(axis=1) instead. To get a de-fragmented frame, use `newframe = frame.copy()`\n",
      "/opt/homebrew/Caskroom/miniforge/base/envs/mljar-env/lib/python3.8/site-packages/supervised/preprocessing/label_binarizer.py:28: PerformanceWarning: DataFrame is highly fragmented.  This is usually the result of calling `frame.insert` many times, which has poor performance.  Consider joining all columns at once using pd.concat(axis=1) instead. To get a de-fragmented frame, use `newframe = frame.copy()`\n",
      "/opt/homebrew/Caskroom/miniforge/base/envs/mljar-env/lib/python3.8/site-packages/supervised/preprocessing/label_binarizer.py:28: PerformanceWarning: DataFrame is highly fragmented.  This is usually the result of calling `frame.insert` many times, which has poor performance.  Consider joining all columns at once using pd.concat(axis=1) instead. To get a de-fragmented frame, use `newframe = frame.copy()`\n",
      "/opt/homebrew/Caskroom/miniforge/base/envs/mljar-env/lib/python3.8/site-packages/supervised/preprocessing/label_binarizer.py:28: PerformanceWarning: DataFrame is highly fragmented.  This is usually the result of calling `frame.insert` many times, which has poor performance.  Consider joining all columns at once using pd.concat(axis=1) instead. To get a de-fragmented frame, use `newframe = frame.copy()`\n",
      "/opt/homebrew/Caskroom/miniforge/base/envs/mljar-env/lib/python3.8/site-packages/supervised/preprocessing/label_binarizer.py:28: PerformanceWarning: DataFrame is highly fragmented.  This is usually the result of calling `frame.insert` many times, which has poor performance.  Consider joining all columns at once using pd.concat(axis=1) instead. To get a de-fragmented frame, use `newframe = frame.copy()`\n",
      "/opt/homebrew/Caskroom/miniforge/base/envs/mljar-env/lib/python3.8/site-packages/supervised/preprocessing/label_binarizer.py:28: PerformanceWarning: DataFrame is highly fragmented.  This is usually the result of calling `frame.insert` many times, which has poor performance.  Consider joining all columns at once using pd.concat(axis=1) instead. To get a de-fragmented frame, use `newframe = frame.copy()`\n",
      "/opt/homebrew/Caskroom/miniforge/base/envs/mljar-env/lib/python3.8/site-packages/supervised/preprocessing/label_binarizer.py:28: PerformanceWarning: DataFrame is highly fragmented.  This is usually the result of calling `frame.insert` many times, which has poor performance.  Consider joining all columns at once using pd.concat(axis=1) instead. To get a de-fragmented frame, use `newframe = frame.copy()`\n",
      "/opt/homebrew/Caskroom/miniforge/base/envs/mljar-env/lib/python3.8/site-packages/supervised/preprocessing/label_binarizer.py:28: PerformanceWarning: DataFrame is highly fragmented.  This is usually the result of calling `frame.insert` many times, which has poor performance.  Consider joining all columns at once using pd.concat(axis=1) instead. To get a de-fragmented frame, use `newframe = frame.copy()`\n",
      "/opt/homebrew/Caskroom/miniforge/base/envs/mljar-env/lib/python3.8/site-packages/supervised/preprocessing/label_binarizer.py:28: PerformanceWarning: DataFrame is highly fragmented.  This is usually the result of calling `frame.insert` many times, which has poor performance.  Consider joining all columns at once using pd.concat(axis=1) instead. To get a de-fragmented frame, use `newframe = frame.copy()`\n",
      "/opt/homebrew/Caskroom/miniforge/base/envs/mljar-env/lib/python3.8/site-packages/supervised/preprocessing/label_binarizer.py:28: PerformanceWarning: DataFrame is highly fragmented.  This is usually the result of calling `frame.insert` many times, which has poor performance.  Consider joining all columns at once using pd.concat(axis=1) instead. To get a de-fragmented frame, use `newframe = frame.copy()`\n",
      "/opt/homebrew/Caskroom/miniforge/base/envs/mljar-env/lib/python3.8/site-packages/supervised/preprocessing/label_binarizer.py:28: PerformanceWarning: DataFrame is highly fragmented.  This is usually the result of calling `frame.insert` many times, which has poor performance.  Consider joining all columns at once using pd.concat(axis=1) instead. To get a de-fragmented frame, use `newframe = frame.copy()`\n",
      "/opt/homebrew/Caskroom/miniforge/base/envs/mljar-env/lib/python3.8/site-packages/supervised/preprocessing/label_binarizer.py:28: PerformanceWarning: DataFrame is highly fragmented.  This is usually the result of calling `frame.insert` many times, which has poor performance.  Consider joining all columns at once using pd.concat(axis=1) instead. To get a de-fragmented frame, use `newframe = frame.copy()`\n",
      "/opt/homebrew/Caskroom/miniforge/base/envs/mljar-env/lib/python3.8/site-packages/supervised/preprocessing/label_binarizer.py:28: PerformanceWarning: DataFrame is highly fragmented.  This is usually the result of calling `frame.insert` many times, which has poor performance.  Consider joining all columns at once using pd.concat(axis=1) instead. To get a de-fragmented frame, use `newframe = frame.copy()`\n",
      "/opt/homebrew/Caskroom/miniforge/base/envs/mljar-env/lib/python3.8/site-packages/supervised/preprocessing/label_binarizer.py:28: PerformanceWarning: DataFrame is highly fragmented.  This is usually the result of calling `frame.insert` many times, which has poor performance.  Consider joining all columns at once using pd.concat(axis=1) instead. To get a de-fragmented frame, use `newframe = frame.copy()`\n",
      "/opt/homebrew/Caskroom/miniforge/base/envs/mljar-env/lib/python3.8/site-packages/supervised/preprocessing/label_binarizer.py:28: PerformanceWarning: DataFrame is highly fragmented.  This is usually the result of calling `frame.insert` many times, which has poor performance.  Consider joining all columns at once using pd.concat(axis=1) instead. To get a de-fragmented frame, use `newframe = frame.copy()`\n",
      "/opt/homebrew/Caskroom/miniforge/base/envs/mljar-env/lib/python3.8/site-packages/supervised/preprocessing/label_binarizer.py:28: PerformanceWarning: DataFrame is highly fragmented.  This is usually the result of calling `frame.insert` many times, which has poor performance.  Consider joining all columns at once using pd.concat(axis=1) instead. To get a de-fragmented frame, use `newframe = frame.copy()`\n",
      "/opt/homebrew/Caskroom/miniforge/base/envs/mljar-env/lib/python3.8/site-packages/supervised/preprocessing/label_binarizer.py:28: PerformanceWarning: DataFrame is highly fragmented.  This is usually the result of calling `frame.insert` many times, which has poor performance.  Consider joining all columns at once using pd.concat(axis=1) instead. To get a de-fragmented frame, use `newframe = frame.copy()`\n",
      "/opt/homebrew/Caskroom/miniforge/base/envs/mljar-env/lib/python3.8/site-packages/supervised/preprocessing/label_binarizer.py:28: PerformanceWarning: DataFrame is highly fragmented.  This is usually the result of calling `frame.insert` many times, which has poor performance.  Consider joining all columns at once using pd.concat(axis=1) instead. To get a de-fragmented frame, use `newframe = frame.copy()`\n",
      "/opt/homebrew/Caskroom/miniforge/base/envs/mljar-env/lib/python3.8/site-packages/supervised/preprocessing/label_binarizer.py:28: PerformanceWarning: DataFrame is highly fragmented.  This is usually the result of calling `frame.insert` many times, which has poor performance.  Consider joining all columns at once using pd.concat(axis=1) instead. To get a de-fragmented frame, use `newframe = frame.copy()`\n",
      "/opt/homebrew/Caskroom/miniforge/base/envs/mljar-env/lib/python3.8/site-packages/supervised/preprocessing/label_binarizer.py:28: PerformanceWarning: DataFrame is highly fragmented.  This is usually the result of calling `frame.insert` many times, which has poor performance.  Consider joining all columns at once using pd.concat(axis=1) instead. To get a de-fragmented frame, use `newframe = frame.copy()`\n",
      "/opt/homebrew/Caskroom/miniforge/base/envs/mljar-env/lib/python3.8/site-packages/supervised/preprocessing/label_binarizer.py:28: PerformanceWarning: DataFrame is highly fragmented.  This is usually the result of calling `frame.insert` many times, which has poor performance.  Consider joining all columns at once using pd.concat(axis=1) instead. To get a de-fragmented frame, use `newframe = frame.copy()`\n",
      "/opt/homebrew/Caskroom/miniforge/base/envs/mljar-env/lib/python3.8/site-packages/supervised/preprocessing/label_binarizer.py:28: PerformanceWarning: DataFrame is highly fragmented.  This is usually the result of calling `frame.insert` many times, which has poor performance.  Consider joining all columns at once using pd.concat(axis=1) instead. To get a de-fragmented frame, use `newframe = frame.copy()`\n",
      "/opt/homebrew/Caskroom/miniforge/base/envs/mljar-env/lib/python3.8/site-packages/supervised/preprocessing/label_binarizer.py:28: PerformanceWarning: DataFrame is highly fragmented.  This is usually the result of calling `frame.insert` many times, which has poor performance.  Consider joining all columns at once using pd.concat(axis=1) instead. To get a de-fragmented frame, use `newframe = frame.copy()`\n",
      "/opt/homebrew/Caskroom/miniforge/base/envs/mljar-env/lib/python3.8/site-packages/supervised/preprocessing/label_binarizer.py:28: PerformanceWarning: DataFrame is highly fragmented.  This is usually the result of calling `frame.insert` many times, which has poor performance.  Consider joining all columns at once using pd.concat(axis=1) instead. To get a de-fragmented frame, use `newframe = frame.copy()`\n",
      "/opt/homebrew/Caskroom/miniforge/base/envs/mljar-env/lib/python3.8/site-packages/supervised/preprocessing/label_binarizer.py:28: PerformanceWarning: DataFrame is highly fragmented.  This is usually the result of calling `frame.insert` many times, which has poor performance.  Consider joining all columns at once using pd.concat(axis=1) instead. To get a de-fragmented frame, use `newframe = frame.copy()`\n"
     ]
    }
   ],
   "source": [
    "from sklearn.metrics import accuracy_score, precision_score, recall_score, f1_score\n",
    "\n",
    "# 예측\n",
    "preds_label = automl.predict(X_test)\n",
    "\n",
    "# 평가 지표 계산\n",
    "acc = accuracy_score(y_test, preds_label)\n",
    "precision = precision_score(y_test, preds_label)\n",
    "recall = recall_score(y_test, preds_label)\n",
    "f1 = f1_score(y_test, preds_label)\n",
    "\n",
    "print(f\"Accuracy : {acc:.4f}\")\n",
    "print(f\"Precision: {precision:.4f}\")\n",
    "print(f\"Recall   : {recall:.4f}\")\n",
    "print(f\"F1-score : {f1:.4f}\")"
   ]
  },
  {
   "cell_type": "code",
   "execution_count": 46,
   "metadata": {},
   "outputs": [],
   "source": [
    "!pip freeze > requirements.txt"
   ]
  },
  {
   "cell_type": "code",
   "execution_count": null,
   "metadata": {},
   "outputs": [],
   "source": []
  }
 ],
 "metadata": {
  "kernelspec": {
   "display_name": "mljar-env",
   "language": "python",
   "name": "python3"
  },
  "language_info": {
   "codemirror_mode": {
    "name": "ipython",
    "version": 3
   },
   "file_extension": ".py",
   "mimetype": "text/x-python",
   "name": "python",
   "nbconvert_exporter": "python",
   "pygments_lexer": "ipython3",
   "version": "3.8.20"
  }
 },
 "nbformat": 4,
 "nbformat_minor": 2
}
